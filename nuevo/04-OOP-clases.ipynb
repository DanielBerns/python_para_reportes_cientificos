{
 "cells": [
  {
   "cell_type": "markdown",
   "metadata": {},
   "source": [
    "# Programación orientada a objetos\n",
    "\n",
    "Vivimos rodeados de objetos. Sabemos lo que son. Sabemos que si los tenemos que describir, nos conviene agruparlos en clases, conjuntos cuyos elementos tienen propiedades en común. Por ejemplo, vehículos, animales, herramientas. \n",
    "\n",
    "Sabemos que las clases tienen subclases: los vehículos pueden ser autos, camiones, buses, furgonetas, etc.\n",
    "Los animales pueden ser vertebrados e invertebrados, los animales vertebrados pueden ser de sangre caliente y fria, mamíferos y reptiles. Los animales mamíferos pueden ser carnívoros y herbívoros, salvajes y domésticos, perros, felinos o cetáceos.\n",
    "\n",
    "Además de pensar en clases y subclases con características comunes y distintivas, tenemos las instancias o elementos pertenecientes a dichos conjuntos. La gata Agata es una instancia particular o ejemplo de un anímal vertebrado mamífero felino\n",
    "\n",
    "Pensando así en clases, subclases y elementos de clases se ha definido un paradigma de construcción de programas denominado Programación orientada a objetos (**O**bject **O**riented **P**rogramming, **OOP**)"
   ]
  },
  {
   "cell_type": "markdown",
   "metadata": {},
   "source": [
    "## Objetos y clases\n",
    "\n",
    "Hasta ahora hemos trabajado en Python, sin mencionar explicitamente objetos y clases. Sin embargo, en Python todas las variables son objetos. \n",
    "\n",
    "Entonces, tenemos que preguntarnos que es un objeto. \n",
    "Podemos decir que:\n",
    "1. La clase es la definición de un objeto. En la clase se definen datos (denominados campos o fields en inglés) y funciones (denominados métodos o methods en inglés) que operan sobre los campos.\n",
    "2. Los objetos son instancias de una clase. En un programa podemos tener varios objetos de una misma clase, y también objetos de varias clases.\n",
    "3. Podemos definir también una jerarquía de clases. Decimos entonces que una clase hereda los campos y métodos de su superclase."
   ]
  },
  {
   "cell_type": "code",
   "execution_count": 1,
   "metadata": {
    "collapsed": true
   },
   "outputs": [],
   "source": [
    "# Ejemplo\n",
    "class Persona:\n",
    "    \"\"\"De todas las Personas nos interesan los mismos datos, y queremos escribirlos\n",
    "    \"\"\"\n",
    "    def __init__(self, nacimiento, nombre, apellido, domicilio):\n",
    "        \"\"\"Método de inicialización de un objeto. Reserva el lugar de memoria para los\n",
    "           campos y les da un valor inicial.\n",
    "           __init__ es un nombre especial para Python\n",
    "           self es una variable especial para Python, que representa a los objetos que se\n",
    "           quieren crear. Ver explicacion maś abajo, donde dice EXPLICA_SELF\n",
    "        \"\"\"\n",
    "        self._nacimiento = nacimiento # el objeto de la clase Persona tiene un campo nacimiento\n",
    "        self._nombre = nombre # el objeto de la clase Persona tiene un campo nombre\n",
    "        self._apellido = apellido # el objeto de la clase Persona tiene un campo apellido\n",
    "        self._domicilio = domicilio # el objeto de la clase Persona tiene un campo nacimiento\n",
    "        # Vamos a adoptar como costumbre escribir el campo xxxx como self._xxxx\n",
    "        # El motivo se explica después, donde dice EXPLICA_CAMPO\n",
    "\n",
    "    def escribir(self):\n",
    "        \"\"\"Otro método\n",
    "        \"\"\"\n",
    "        print(f'-'*80)\n",
    "        print(f'Nacimiento {self._nacimiento[0]:2d}:{self._nacimiento[1]:2d}:{self._nacimiento[2]:4d}')\n",
    "        print(f'Nombre y apellido: {self._nombre:s} {self._apellido:s}')\n",
    "        print(f'Domicilio: {self._domicilio:s}')\n",
    "\n",
    "\n",
    "class Universitarie(Persona):\n",
    "    def __init__(self, nacimiento, nombre, apellido, domicilio):\n",
    "        super().__init__(nacimiento, nombre, apellido, domicilio)\n",
    "        self._cursos = []\n",
    "        \n",
    "    def agregar_curso(self, nombre_curso):\n",
    "        \"\"\"Otro método\n",
    "        \"\"\"\n",
    "        self._cursos.append(nombre_curso)\n",
    "\n",
    "        \n",
    "class Docente(Universitarie):\n",
    "    def escribir(self):\n",
    "        super().escribir()\n",
    "        for curso in self._cursos:\n",
    "            print(f'Docente: {curso:s}')\n",
    "\n",
    "            \n",
    "class Estudiante(Universitarie):\n",
    "    def escribir(self):\n",
    "        super().escribir()\n",
    "        for curso in self._cursos:\n",
    "            print(f'Alumno: {curso:s}')\n"
   ]
  },
  {
   "cell_type": "code",
   "execution_count": 2,
   "metadata": {},
   "outputs": [
    {
     "name": "stdout",
     "output_type": "stream",
     "text": [
      "<class '__main__.Docente'>\n",
      "Nombre Esteban\n",
      "Nacimiento [28, 7, 1991]\n"
     ]
    }
   ],
   "source": [
    "docentes = []\n",
    "\n",
    "# Vamos a crear un objeto de clase Docente\n",
    "red = Docente([11, 12, 1962], 'Esteban', 'Quito', 'El Patagónico 1274')\n",
    "# EXPLICA_SELF: no debemos incluir la variable self en los argumentos cuando creamos un objeto\n",
    "\n",
    "print(type(red))\n",
    "\n",
    "red.agregar_curso('Señales y Sistemas')\n",
    "red.agregar_curso('Python')\n",
    "\n",
    "# Creamos otro objeto de clase Docente\n",
    "blue = Docente([28, 7, 1991], 'Elena', 'No', 'Costanera 1978')\n",
    "blue.agregar_curso('Pedagogia')\n",
    "\n",
    "# EXPLICA_CAMPO\n",
    "# Podemos acceder a los campos directamente\n",
    "print(f'Nombre {red._nombre:s}')\n",
    "print(f'Nacimiento {str(blue._nacimiento):s}')\n",
    "# El caracter _ adelante del nombre en los campos nos sirve para diferenciar campos y métodos"
   ]
  },
  {
   "cell_type": "code",
   "execution_count": 3,
   "metadata": {},
   "outputs": [
    {
     "name": "stdout",
     "output_type": "stream",
     "text": [
      "--------------------------------------------------------------------------------\n",
      "Nacimiento 11:12:1962\n",
      "Nombre y apellido: Esteban Quito\n",
      "Domicilio: El Patagónico 1274\n",
      "Docente: Señales y Sistemas\n",
      "Docente: Python\n"
     ]
    }
   ],
   "source": [
    "red.escribir()"
   ]
  },
  {
   "cell_type": "code",
   "execution_count": 4,
   "metadata": {},
   "outputs": [
    {
     "name": "stdout",
     "output_type": "stream",
     "text": [
      "--------------------------------------------------------------------------------\n",
      "Nacimiento 28: 7:1991\n",
      "Nombre y apellido: Elena No\n",
      "Domicilio: Costanera 1978\n",
      "Docente: Pedagogia\n"
     ]
    }
   ],
   "source": [
    "blue.escribir()"
   ]
  },
  {
   "cell_type": "code",
   "execution_count": 5,
   "metadata": {},
   "outputs": [
    {
     "name": "stdout",
     "output_type": "stream",
     "text": [
      "--------------------------------------------------------------------------------\n",
      "Nacimiento 11:12:1962\n",
      "Nombre y apellido: Esteban Quito\n",
      "Domicilio: El Patagónico 1274\n",
      "Docente: Señales y Sistemas\n",
      "Docente: Python\n",
      "--------------------------------------------------------------------------------\n",
      "Nacimiento 28: 7:1991\n",
      "Nombre y apellido: Elena No\n",
      "Domicilio: Costanera 1978\n",
      "Docente: Pedagogia\n"
     ]
    }
   ],
   "source": [
    "docentes = [red, blue]\n",
    "for p in docentes:\n",
    "    p.escribir()"
   ]
  },
  {
   "cell_type": "code",
   "execution_count": 6,
   "metadata": {
    "collapsed": true
   },
   "outputs": [],
   "source": [
    "nacimientos = [[1,1,2000], [2,2,2000], [3,3,2000]]\n",
    "nombres = ['Esteban', 'Elsa', 'Elena']\n",
    "apellidos = ['Quito', 'Lame', 'No']\n",
    "domicilios = ['Uno 1000', 'Dos 2000', 'Tres 2000']\n",
    "\n",
    "estudiantes = []\n",
    "for nac, nom, ape, dom in zip(nacimientos, nombres, apellidos, domicilios):\n",
    "    estudiantes.append(Estudiante(nac, nom, ape, dom))"
   ]
  },
  {
   "cell_type": "code",
   "execution_count": 7,
   "metadata": {},
   "outputs": [
    {
     "name": "stdout",
     "output_type": "stream",
     "text": [
      "--------------------------------------------------------------------------------\n",
      "Nacimiento  1: 1:2000\n",
      "Nombre y apellido: Esteban Quito\n",
      "Domicilio: Uno 1000\n",
      "--------------------------------------------------------------------------------\n",
      "Nacimiento  2: 2:2000\n",
      "Nombre y apellido: Elsa Lame\n",
      "Domicilio: Dos 2000\n",
      "--------------------------------------------------------------------------------\n",
      "Nacimiento  3: 3:2000\n",
      "Nombre y apellido: Elena No\n",
      "Domicilio: Tres 2000\n"
     ]
    }
   ],
   "source": [
    "for e in estudiantes:\n",
    "    e.escribir()"
   ]
  },
  {
   "cell_type": "markdown",
   "metadata": {},
   "source": [
    "## Como se \"leen\" y escriben\" los campos\n",
    "\n",
    "¿Como se accede a los valores almacenados en los campos?\n",
    "\n",
    "Python permite el acceso ilimitado a los campos de un objeto. Esto no significa que tengamos que hacerlo."
   ]
  },
  {
   "cell_type": "markdown",
   "metadata": {},
   "source": [
    "### Ejemplo 1"
   ]
  },
  {
   "cell_type": "code",
   "execution_count": 8,
   "metadata": {},
   "outputs": [
    {
     "name": "stdout",
     "output_type": "stream",
     "text": [
      "--------------------------------------------------------------------------------\n",
      "Nacimiento 28: 7:1991\n",
      "Nombre y apellido: Elena No\n",
      "Domicilio: Costanera 1978\n",
      "Docente: Pedagogia\n"
     ]
    }
   ],
   "source": [
    "blue.escribir()"
   ]
  },
  {
   "cell_type": "code",
   "execution_count": 9,
   "metadata": {},
   "outputs": [
    {
     "data": {
      "text/plain": [
       "'Elena'"
      ]
     },
     "execution_count": 9,
     "metadata": {},
     "output_type": "execute_result"
    }
   ],
   "source": [
    "# Esto solamente pasa en Python.\n",
    "# Otros lenguajes de programación tienen otros tipos de acceso a los campos de un objeto\n",
    "# Podemos ver el valor de un campo como lo hacemos con cualquier otra variable\n",
    "blue._nombre"
   ]
  },
  {
   "cell_type": "code",
   "execution_count": 10,
   "metadata": {},
   "outputs": [
    {
     "name": "stdout",
     "output_type": "stream",
     "text": [
      "--------------------------------------------------------------------------------\n",
      "Nacimiento 28: 7:1991\n",
      "Nombre y apellido: Elena No\n",
      "Domicilio: Costanera 1978\n",
      "Docente: Pedagogia\n",
      "--------------------------------------------------------------------------------\n",
      "Nacimiento 28: 7:1991\n",
      "Nombre y apellido: Bana No\n",
      "Domicilio: Costanera 1978\n",
      "Docente: Pedagogia\n"
     ]
    }
   ],
   "source": [
    "# Podemos modificar el valor de un campo de la misma forma\n",
    "blue.escribir()\n",
    "blue._nombre = 'Bana'\n",
    "blue.escribir()"
   ]
  },
  {
   "cell_type": "markdown",
   "metadata": {},
   "source": [
    "## Encapsulamiento de datos \n",
    "\n",
    "La idea de la programación orientada a objetos es encapsular los datos. Esto significa que deberiamos acceder a los valores de los campos a través de los métodos del objeto."
   ]
  },
  {
   "cell_type": "code",
   "execution_count": 11,
   "metadata": {
    "collapsed": true
   },
   "outputs": [],
   "source": [
    "class Cosa:\n",
    "    def __init__(self, nombre, color, ancho, alto, profundidad, x, y):\n",
    "        self._nombre = nombre\n",
    "        self._color = color\n",
    "        self._ancho = ancho\n",
    "        self._alto = alto\n",
    "        self._profundidad = profundidad\n",
    "        self._x = x\n",
    "        self._y = y\n",
    "        \n",
    "    def nombre(self):\n",
    "        return self._nombre\n",
    "    \n",
    "    def color(self):\n",
    "        return self._color\n",
    "    \n",
    "    def ancho(self):\n",
    "        return self._ancho\n",
    "    \n",
    "    def alto(self):\n",
    "        return self._alto\n",
    "    \n",
    "    def profundidad(self):\n",
    "        return self._profundidad\n",
    "    \n",
    "    def x(self):\n",
    "        return self._x\n",
    "    \n",
    "    def cambiar_x(self, valor):\n",
    "        self._x = valor\n",
    "\n",
    "    def y(self):\n",
    "        return self._y\n",
    "    \n",
    "    def cambiar_y(self, valor):\n",
    "        self._y = valor\n",
    "\n",
    "    def imprimir(self):\n",
    "        print(f'{self.nombre():s} {self.color():s}',\n",
    "              f'{self.ancho():f} {self.alto():f} {self.profundidad()}',\n",
    "              f'{self.x():f} {self.y():f}')"
   ]
  },
  {
   "cell_type": "code",
   "execution_count": 12,
   "metadata": {
    "collapsed": true
   },
   "outputs": [],
   "source": [
    "a = Cosa('A', 'azul', 10, 20, 30, -1, 2)"
   ]
  },
  {
   "cell_type": "code",
   "execution_count": 13,
   "metadata": {},
   "outputs": [
    {
     "name": "stdout",
     "output_type": "stream",
     "text": [
      "A azul 10.000000 20.000000 30 -1.000000 2.000000\n"
     ]
    }
   ],
   "source": [
    "a.imprimir()"
   ]
  },
  {
   "cell_type": "code",
   "execution_count": 14,
   "metadata": {},
   "outputs": [
    {
     "name": "stdout",
     "output_type": "stream",
     "text": [
      "A azul 10.000000 20.000000 30 4.000000 5.000000\n"
     ]
    }
   ],
   "source": [
    "a.cambiar_x(4)\n",
    "a.cambiar_y(5)\n",
    "a.imprimir()"
   ]
  },
  {
   "cell_type": "markdown",
   "metadata": {},
   "source": [
    "### ¿Para que hacemos esto?\n",
    "\n",
    "Accedemos a los valores a través de los métodos por varios motivos:\n",
    "\n",
    "1. Indicar que valores se pueden acceder y cuales no: Si hay un método para cambiar el valor de un campo, quiere decir que podemos hacerlo con seguridad de no provocar errores. Si no hay método para cambiar un valor, no deberíamos hacerlo, por más que Python lo permita.\n",
    "\n",
    "2. En este ejemplo, los métodos cambiar_x y cambiar_y solo modifican los valores de x e y, pero también podrían hacer algo más, como verificar que los nuevos valores sean correctos, o calcular algo que dependa de los valores nuevos y viejos, por ejemplo el desplazamiento de la Cosa.\n",
    "\n",
    "3. Si bien la clase se \"agranda\" en cantidad de líneas, los programas tienden a ser más legibles, sencillos de entender y de corregir, y el tiempo de programación se reduce.\n",
    "\n",
    "4. Acceder a los valores de los campos empleando los métodos de los objetos facilita la reusabilidad de las clases en nuevos programas."
   ]
  },
  {
   "cell_type": "markdown",
   "metadata": {},
   "source": [
    "## Otra forma más elegante de hacer lo mismo\n",
    "\n",
    "Vamos a ver una segunda versión de la clase Cosa"
   ]
  },
  {
   "cell_type": "code",
   "execution_count": 25,
   "metadata": {
    "collapsed": true
   },
   "outputs": [],
   "source": [
    "class Cosa:\n",
    "    def __init__(self, nombre, color, ancho, alto, profundidad, x, y):\n",
    "        self._nombre = nombre\n",
    "        self._color = color\n",
    "        self._ancho = ancho\n",
    "        self._alto = alto\n",
    "        self._profundidad = profundidad\n",
    "        self._x = x\n",
    "        self._y = y\n",
    "        self._dx = 0.0\n",
    "        self._dy = 0.0\n",
    "        \n",
    "    @property\n",
    "    def nombre(self):\n",
    "        return self._nombre\n",
    "    \n",
    "    @property\n",
    "    def color(self):\n",
    "        return self._color\n",
    "    \n",
    "    ## Esto es una propiedad\n",
    "    @property\n",
    "    def ancho(self):\n",
    "        return self._ancho\n",
    "    \n",
    "    @property\n",
    "    def alto(self):\n",
    "        return self._alto\n",
    "    \n",
    "    @property\n",
    "    def profundidad(self):\n",
    "        return self._profundidad\n",
    "    \n",
    "    @property\n",
    "    def volumen(self):\n",
    "        return self.ancho * self.alto * self.profundidad\n",
    "\n",
    "    @property\n",
    "    def x(self):\n",
    "        return self._x\n",
    "    \n",
    "    ## Esto es otra propiedad\n",
    "    @x.setter\n",
    "    def x(self, valor):\n",
    "        self.dx += (self.x - valor)\n",
    "        self._x = valor\n",
    "\n",
    "    @property\n",
    "    def y(self):\n",
    "        return self._y\n",
    "    \n",
    "    @y.setter\n",
    "    def y(self, valor):\n",
    "        self.dy += (self.y - valor)\n",
    "        self._y = valor\n",
    "        \n",
    "    @property\n",
    "    def dx(self):\n",
    "        return self._dx\n",
    "    \n",
    "    @dx.setter\n",
    "    def dx(self, value):\n",
    "        self._dx = value\n",
    "        \n",
    "    @property\n",
    "    def dy(self):\n",
    "        return self._dx\n",
    "    \n",
    "    @dy.setter\n",
    "    def dy(self, value):\n",
    "        self._dy = value\n",
    "        \n",
    "    def imprimir(self):\n",
    "        print(f'{self.nombre:s} {self.color:s}',\n",
    "              f'{self.ancho:f} {self.alto:f} {self.profundidad}',\n",
    "              f'{self.volumen:f}',\n",
    "              f'{self.x:f} {self.y:f}')"
   ]
  },
  {
   "cell_type": "code",
   "execution_count": 26,
   "metadata": {},
   "outputs": [
    {
     "data": {
      "text/plain": [
       "(1, 2)"
      ]
     },
     "execution_count": 26,
     "metadata": {},
     "output_type": "execute_result"
    }
   ],
   "source": [
    "a = Cosa('a', 'b', 10, 10, 10, 1, 2)\n",
    "a.x, a.y"
   ]
  },
  {
   "cell_type": "code",
   "execution_count": 27,
   "metadata": {},
   "outputs": [
    {
     "data": {
      "text/plain": [
       "(2, 3)"
      ]
     },
     "execution_count": 27,
     "metadata": {},
     "output_type": "execute_result"
    }
   ],
   "source": [
    "a.x = 2 # \n",
    "a.y = 3 #\n",
    "a.x, a.y"
   ]
  },
  {
   "cell_type": "code",
   "execution_count": 28,
   "metadata": {},
   "outputs": [
    {
     "data": {
      "text/plain": [
       "(-1.0, -1.0)"
      ]
     },
     "execution_count": 28,
     "metadata": {},
     "output_type": "execute_result"
    }
   ],
   "source": [
    "a.dx, a.dy"
   ]
  },
  {
   "cell_type": "code",
   "execution_count": 23,
   "metadata": {},
   "outputs": [
    {
     "name": "stdout",
     "output_type": "stream",
     "text": [
      "a b 10.000000 10.000000 10 1000.000000 2.000000 3.000000\n"
     ]
    }
   ],
   "source": [
    "a.imprimir()"
   ]
  },
  {
   "cell_type": "code",
   "execution_count": null,
   "metadata": {
    "collapsed": true
   },
   "outputs": [],
   "source": []
  }
 ],
 "metadata": {
  "kernelspec": {
   "display_name": "Python 3",
   "language": "python",
   "name": "python3"
  },
  "language_info": {
   "codemirror_mode": {
    "name": "ipython",
    "version": 3
   },
   "file_extension": ".py",
   "mimetype": "text/x-python",
   "name": "python",
   "nbconvert_exporter": "python",
   "pygments_lexer": "ipython3",
   "version": "3.6.5"
  }
 },
 "nbformat": 4,
 "nbformat_minor": 2
}
